{
 "cells": [
  {
   "cell_type": "markdown",
   "metadata": {},
   "source": [
    "v0.1, json output\n"
   ]
  },
  {
   "cell_type": "code",
   "execution_count": null,
   "metadata": {},
   "outputs": [],
   "source": [
    "from selenium import webdriver\n",
    "from selenium.webdriver.chrome.options import Options\n",
    "from bs4 import BeautifulSoup\n",
    "import pandas as pd\n",
    "import requests\n",
    "import re"
   ]
  },
  {
   "cell_type": "code",
   "execution_count": null,
   "metadata": {},
   "outputs": [],
   "source": [
    "chrome_options = Options()\n",
    "#stops the browser from popping up when this program runs \n",
    "chrome_options.add_argument(\"--headless\")\n",
    "driver = webdriver.Chrome(executable_path=\"chromedriver\", chrome_options=chrome_options)"
   ]
  },
  {
   "cell_type": "code",
   "execution_count": null,
   "metadata": {},
   "outputs": [],
   "source": [
    "CATALOGUE_LINK_1ST_HALF = 'https://open.bccampus.ca/browse-our-collection/find-open-textbooks/?start=' \n",
    "list_number = 0 \n",
    "CATALOGUE_LINK_2ND_HALF = '&subject=&contributor=&searchTerm=&keyword=' \n",
    "\n",
    "catalogue_all_links = [] \n",
    "#prepare links of catalogue to iterate through\n",
    "for i in range(0, 390, 10): \n",
    "    catalogue_all_links.append(CATALOGUE_LINK_1ST_HALF + str(i) + CATALOGUE_LINK_2ND_HALF)"
   ]
  },
  {
   "cell_type": "code",
   "execution_count": null,
   "metadata": {},
   "outputs": [],
   "source": [
    "list_of_links_of_all_books = [] \n",
    "BOOK_LINK_1ST_HALF = 'https://open.bccampus.ca/browse-our-collection/find-open-textbooks/'\n",
    "#iterate through all 38 pages of catalogues\n",
    "for link in catalogue_all_links:\n",
    "    driver.get(link)\n",
    "    content = driver.page_source\n",
    "    soup = BeautifulSoup(content)\n",
    "    #get links of each books in the page\n",
    "    for link in soup.findAll('a', href=True):\n",
    "        if ('uuid' in link.attrs.get('href')): \n",
    "            list_of_links_of_all_books.append(BOOK_LINK_1ST_HALF + link.attrs.get('href'))\n",
    "\n",
    "#remove duplicates \n",
    "list_of_links_of_all_books = list(dict.fromkeys(list_of_links_of_all_books))"
   ]
  },
  {
   "cell_type": "code",
   "execution_count": null,
   "metadata": {},
   "outputs": [],
   "source": [
    "#initialise arrays to store values of each book. prepare for insertion into json. \n",
    "names = [] \n",
    "genres = [] \n",
    "publish_dates = [] \n",
    "descriptions = [] \n",
    "authors = [] \n",
    "photosLinks = [] \n",
    "links = [] \n",
    "Ids = []"
   ]
  },
  {
   "cell_type": "code",
   "execution_count": null,
   "metadata": {},
   "outputs": [],
   "source": [
    "def formaturl(url):\n",
    "    if not re.match('(?:http|ftp|https):', url):\n",
    "        return 'http:{}'.format(url)\n",
    "    return url\n",
    "\n",
    "def setGenre(link): \n",
    "    if ('Biological' or 'Astronomy' or 'Biology' or 'Chemistry' or 'Physics' or 'Science') in link: \n",
    "        return 'Biological/Physical Sciences'\n",
    "    elif ('Business' or 'Career' or 'College' or 'Accounting' or 'Business' or 'Commerce' or 'Entrepreneurship' or 'Finance' or 'Human' or 'Management' or 'Non-Profits') in link: \n",
    "        return 'Business'\n",
    "    elif ('Computer' or 'Algorithms' or 'Computer' or 'Databases' or 'Systems' or 'Web') in link: \n",
    "        return 'Computer Sciences' \n",
    "    elif ('Humanities' or 'English' or 'Gender' or 'History' or 'Lingustics' or 'Philosophy' or 'Spanish') in link:\n",
    "        return 'Humanities'\n",
    "    elif ('Math' or 'Algebra' or 'Calculus' or 'Math' or 'Statistics') in link: \n",
    "        return 'Math/Stats'\n",
    "    else: \n",
    "        return 'Others'\n",
    "\n",
    "#iterate through links to each book to get information of books and store them in the arrays\n",
    "number = 1 \n",
    "for link in list_of_links_of_all_books: \n",
    "    driver.get(link)\n",
    "    content = driver.page_source\n",
    "    soup = BeautifulSoup(content)\n",
    "    \n",
    "    #parse a webpage for book details \n",
    "    bookDetailsHTML = soup.find(attrs={'itemtype':'https://schema.org/Book'})\n",
    "\n",
    "    #get required values from the webpage \n",
    "    name = bookDetailsHTML.find(attrs={'itemprop':'name'}).text\n",
    "    names.append(name)\n",
    "\n",
    "    #substring to keep date only\n",
    "    publish_date = bookDetailsHTML.find(attrs={'itemprop':'datePublished'}).attrs.get('content')[:10]\n",
    "    publish_dates.append(publish_date)\n",
    "\n",
    "    description = bookDetailsHTML.find(attrs={'itemprop':'description'}).text\n",
    "    descriptions.append(description)\n",
    "\n",
    "    author = bookDetailsHTML.find(attrs={'itemprop':'author copyrightHolder'}).text\n",
    "    authors.append(author)\n",
    "\n",
    "    #link to image. (logic at backend should check if 404, give no image)\n",
    "    photo = bookDetailsHTML.find(attrs={'itemprop':'image'}).attrs.get('src')\n",
    "    photosLinks.append(photo)\n",
    "    \n",
    "    #Id are manually assigned\n",
    "    Ids.append(number)\n",
    "    #download image file. photo string is image filename. \n",
    "    image_url = soup.find(attrs={'itemprop':'image'}).attrs.get('src')\n",
    "    image_url = formaturl(image_url)\n",
    "    #print(image_url)\n",
    "    img_data = requests.get(image_url).content\n",
    "    \n",
    "    with open('book_' + str(number) + '.jpg', 'wb') as handler:\n",
    "        handler.write(img_data)\n",
    "    links.append('book_' + str(number) + '.jpg')\n",
    "    #links.append(link) #in case switch to download on demand (user access)\n",
    "\n",
    "    #get genre from subject areas \n",
    "    print('subject area text:' + soup.find(attrs={'itemprop':\"about\"}).text)\n",
    "    print('genre appended:' + setGenre(soup.find(attrs={'itemprop':\"about\"}).text))\n",
    "    genres.append(setGenre(soup.find(attrs={'itemprop':\"about\"}).text))\n",
    "\n",
    "    print('link ' + str(number) + ' done') \n",
    "    number = number + 1 "
   ]
  },
  {
   "cell_type": "code",
   "execution_count": null,
   "metadata": {},
   "outputs": [],
   "source": [
    "print(len(list_of_links_of_all_books))\n",
    "print(len(names))\n",
    "print(len(publish_dates))\n",
    "print(len(descriptions))\n",
    "print(len(authors))\n",
    "print(len(photosLinks))\n",
    "print(len(links))"
   ]
  },
  {
   "cell_type": "code",
   "execution_count": null,
   "metadata": {},
   "outputs": [],
   "source": [
    "import json\n",
    "\n",
    "data = [{'Id': id, 'title': name, 'description': description, 'photo': photosLink, 'author': author, 'link':link, 'publishDate':publish_date, 'genre': genre} \n",
    "    for id, name, description, photosLink, author, link, publish_date, genre\n",
    "    in zip(Ids, names, descriptions, photosLinks, authors, links, publish_dates, genres)]\n",
    "\n",
    "\n",
    "with open('scrapedTextbooks.json', 'w') as outfile:\n",
    "    json.dump(data,\n",
    "        outfile, \n",
    "        indent=4)"
   ]
  },
  {
   "cell_type": "code",
   "execution_count": null,
   "metadata": {},
   "outputs": [],
   "source": [
    "list_of_links_of_all_books"
   ]
  },
  {
   "cell_type": "code",
   "execution_count": null,
   "metadata": {},
   "outputs": [],
   "source": [
    "link = 'https://open.bccampus.ca/browse-our-collection/find-open-textbooks/?uuid=e1c00bd0-99f2-4842-aa80-2abccd5cee29&contributor=&keyword=&subject='\n",
    "driver.get(link)\n",
    "content = driver.page_source\n",
    "soup = BeautifulSoup(content)\n",
    "soup.find(attrs={'itemprop':\"about\"}).text"
   ]
  },
  {
   "cell_type": "code",
   "execution_count": null,
   "metadata": {},
   "outputs": [],
   "source": [
    "genres"
   ]
  }
 ],
 "metadata": {
  "kernelspec": {
   "display_name": "Python 3.7.13 ('condaEx')",
   "language": "python",
   "name": "python3"
  },
  "language_info": {
   "codemirror_mode": {
    "name": "ipython",
    "version": 3
   },
   "file_extension": ".py",
   "mimetype": "text/x-python",
   "name": "python",
   "nbconvert_exporter": "python",
   "pygments_lexer": "ipython3",
   "version": "3.7.13"
  },
  "orig_nbformat": 4,
  "vscode": {
   "interpreter": {
    "hash": "8ea5e66f9c02928b2640fa9342587de329d83cd6eea0f42abc5e664b6a2b230e"
   }
  }
 },
 "nbformat": 4,
 "nbformat_minor": 2
}
