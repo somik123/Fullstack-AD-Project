{
 "cells": [
  {
   "cell_type": "code",
   "execution_count": 351,
   "metadata": {},
   "outputs": [],
   "source": [
    "import nltk\n",
    "import numpy as np\n",
    "import string\n",
    "import pandas as pd\n",
    "from nltk.corpus import stopwords\n",
    "from sklearn.feature_extraction.text import TfidfVectorizer\n",
    "from sklearn.metrics.pairwise import cosine_similarity"
   ]
  },
  {
   "cell_type": "code",
   "execution_count": 352,
   "metadata": {},
   "outputs": [],
   "source": [
    "def initialiseModel(): \n",
    "    tb = pd.read_excel('textBooksDataPreprocessed.xlsx')\n",
    "    docs_arr = tb['preprocessed'].tolist()\n",
    "    tfidf = TfidfVectorizer()\n",
    "    tfidf = tfidf.fit(docs_arr)\n",
    "    docs_vecs = tfidf.transform(docs_arr).toarray()\n",
    "\n",
    "    return docs_vecs, tfidf, tb\n",
    "\n",
    "\n",
    "def preprocessing(docs):\n",
    "    stop_words = stopwords.words('english')\n",
    "    stemmer = nltk.stem.PorterStemmer()\n",
    "    punc = str.maketrans('','', string.punctuation)\n",
    "    doc_no_punc = docs.translate(punc).lower()\n",
    "    \n",
    "    return doc_no_punc"
   ]
  },
  {
   "cell_type": "code",
   "execution_count": 353,
   "metadata": {},
   "outputs": [],
   "source": [
    "def make_similarity_dataframe(similarity_matrix):\n",
    "\tcolumn_labels = [str(i) for i in range(len(similarity_matrix[0]))]\n",
    "\trow_labels = [\"query\" + str(i) for i in range(len(similarity_matrix))]\n",
    "\n",
    "\treturn pd.DataFrame(similarity_matrix, index=row_labels, columns=column_labels)\n",
    "\t\n",
    "\n",
    "def get_top_5_recommendations_from_consine_similarity(textbooks, series, order): \n",
    "\tsorted_series = series.sort_values(ascending=False)\n",
    "\tdocsID = textbooks['book-id']\n",
    "\tdocsName = textbooks['title']\n",
    "\n",
    "\tfor i in sorted_series[:5].index: \n",
    "\t\tpos = int(i)\t\n",
    "\t\torder += str(docsID.iloc[pos]) + \",\"\n",
    "\t\ttextbooks.drop(textbooks.index[[pos]], inplace = True)\n",
    "\n",
    "\treturn(order, textbooks)"
   ]
  },
  {
   "cell_type": "code",
   "execution_count": 354,
   "metadata": {},
   "outputs": [],
   "source": [
    "#adds to order based on genre given. drops those books from remaining_textbooks\n",
    "def get_books_in_genre(remaining_textbooks, genre, order): \n",
    "    books_in_genre = remaining_textbooks[remaining_textbooks['genre']==genre]\n",
    "    for i in list(books_in_genre['book-id']): \n",
    "        order += str(i) + \",\"\n",
    "    remaining_textbooks.drop(books_in_genre.index, inplace = True)\n",
    "    return remaining_textbooks, order \n",
    "\n",
    "def get_all_remaining_books(remaining_textbooks, order): \n",
    "    for i in list(remaining_textbooks['book-id']): \n",
    "        order += str(i) + \",\"\n",
    "    return order\n",
    "\n",
    "# def gets_books_by_similarity(remaining_textbooks, eventText, order,):  "
   ]
  },
  {
   "cell_type": "code",
   "execution_count": 357,
   "metadata": {},
   "outputs": [
    {
     "name": "stdout",
     "output_type": "stream",
     "text": [
      "215,32,343,20,301,28,183,189,192,220,244,316,375,376,18,19,27,36,68,69,72,83,86,87,88,91,92,93,137,151,156,281,284,298,307,312,343,358,359,360,361,1,2,3,4,5,6,7,8,9,10,11,12,13,14,15,16,17,21,22,23,24,25,26,29,30,31,33,34,35,37,38,39,40,41,42,43,44,45,46,47,48,49,50,51,52,53,54,55,56,57,58,59,60,61,62,63,64,65,66,67,70,71,73,74,75,76,77,78,79,80,81,82,84,85,89,90,94,95,96,97,98,99,100,101,102,103,104,105,106,107,108,109,110,111,112,113,114,115,116,117,118,119,120,121,122,123,124,125,126,127,128,129,130,131,132,133,134,135,136,138,139,140,141,142,143,144,145,146,147,148,149,150,152,153,154,155,157,158,159,160,161,162,163,164,165,166,167,168,169,170,171,172,173,174,175,176,177,178,179,180,181,182,184,185,186,187,188,190,191,193,194,195,196,197,198,199,200,201,202,203,204,205,206,207,208,209,210,211,212,213,214,216,217,218,219,221,222,223,224,225,226,227,228,229,230,231,232,233,234,235,236,237,238,239,240,241,242,243,245,246,247,248,249,250,251,252,253,254,255,256,257,258,259,260,261,262,263,264,265,266,267,268,269,270,271,272,273,274,275,276,277,278,279,280,282,283,285,286,287,288,289,290,291,292,293,294,295,296,297,299,300,301,302,303,305,306,308,309,310,311,313,314,315,317,318,319,320,321,322,323,324,325,326,327,328,329,330,331,332,333,334,335,336,337,338,339,340,341,342,344,346,347,348,349,350,351,352,353,354,355,356,357,362,363,364,365,366,367,368,369,370,371,372,373,374,377,378,379,380,381,382\n"
     ]
    }
   ],
   "source": [
    "(docs_vecs, tfidf, textbooks) = initialiseModel()\n",
    "\n",
    "tbs = textbooks.copy() \n",
    "interest = \"Math/Stats, Computer Sciences\"\n",
    "_eventLatest = \"Math\"\n",
    "order = \"\" \n",
    "\n",
    "#order by event title/cosine similarity\n",
    "_eventLatest = preprocessing(_eventLatest)\n",
    "query_vec = tfidf.transform([_eventLatest]).toarray() \n",
    "query_vec.shape\n",
    "\n",
    "# gives us a N_QUERY_DOCS X N_DOCS matrix\n",
    "docs_similarity = cosine_similarity(query_vec, docs_vecs)\n",
    "\n",
    "# docs_similarity\n",
    "df = make_similarity_dataframe(docs_similarity)\n",
    "\n",
    "(order, tbs) = get_top_5_recommendations_from_consine_similarity(tbs, df.iloc[0], order)\n",
    "\n",
    "#order by genre interest \n",
    "if 'Computer Sciences' in interest: \n",
    "    (tbs, order) = get_books_in_genre(tbs, 'Computer Sciences', order)\n",
    "if 'Math/Stats' in interest: \n",
    "    (tbs, order) = get_books_in_genre(tbs, 'Math/Stats', order)\n",
    "if 'Humanities' in interest: \n",
    "    (tbs, order) = get_books_in_genre(tbs, 'Humanities', order)\n",
    "if 'Biological/Physical Sciences' in interest: \n",
    "    (tbs, order) = get_books_in_genre(tbs, 'Biological/Physical Sciences', order)\n",
    "if 'Business' in interest: \n",
    "    (tbs, order) = get_books_in_genre(tbs, 'Business', order)\n",
    "if 'Others' in interest: \n",
    "    (tbs, order) = get_books_in_genre(tbs, 'Others', order)\n",
    "\n",
    "#finalise order with remaining books\n",
    "order = get_all_remaining_books(tbs, order)\n",
    "order = order[:-1]\n",
    "print(order)\n"
   ]
  }
 ],
 "metadata": {
  "kernelspec": {
   "display_name": "Python 3.7.13 ('condaEx')",
   "language": "python",
   "name": "python3"
  },
  "language_info": {
   "codemirror_mode": {
    "name": "ipython",
    "version": 3
   },
   "file_extension": ".py",
   "mimetype": "text/x-python",
   "name": "python",
   "nbconvert_exporter": "python",
   "pygments_lexer": "ipython3",
   "version": "3.7.13"
  },
  "orig_nbformat": 4,
  "vscode": {
   "interpreter": {
    "hash": "8ea5e66f9c02928b2640fa9342587de329d83cd6eea0f42abc5e664b6a2b230e"
   }
  }
 },
 "nbformat": 4,
 "nbformat_minor": 2
}
